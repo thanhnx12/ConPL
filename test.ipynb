{
 "cells": [
  {
   "cell_type": "code",
   "execution_count": 1,
   "metadata": {},
   "outputs": [],
   "source": [
    "import os\n",
    "# os.environ[\"CUDA_VISIBLE_DEVICES\"] = \"7\"\n",
    "import numpy as np\n",
    "import torch\n",
    "import torch.nn as nn\n",
    "import torch.optim as optim\n",
    "import sys\n",
    "import json\n",
    "import gc\n",
    "from tqdm import tqdm\n",
    "from sklearn.cluster import KMeans\n",
    "from dataprocess import data_sampler_bert_prompt_deal_first_task_sckd\n",
    "from model import proto_softmax_layer_bert_prompt\n",
    "from dataprocess import get_data_loader_bert_prompt\n",
    "from util import set_seed"
   ]
  },
  {
   "cell_type": "code",
   "execution_count": 2,
   "metadata": {},
   "outputs": [],
   "source": [
    "\n",
    "class args:\n",
    "    task = 'fewrel'\n",
    "    shot = 5\n",
    "\n",
    "if args.task == 'tacred':\n",
    "    f = open('config/config_tacred.json','r')\n",
    "elif args.task == 'fewrel':\n",
    "    f = open('config/config_fewrel_5and10.json','r')\n",
    "else:\n",
    "    raise ValueError('task name is not correct')\n",
    "\n",
    "\n",
    "config = json.loads(f.read())\n",
    "f.close()\n",
    "\n",
    "if args.task == \"fewrel\":\n",
    "    config['relation_file'] = \"data/fewrel/relation_name.txt\"\n",
    "    config['rel_index'] = \"data/fewrel/rel_index.npy\"\n",
    "    config['rel_feature'] = \"data/fewrel/rel_feature.npy\"\n",
    "    config['rel_des_file'] = \"data/fewrel/relation_description.txt\"\n",
    "    config['num_of_relation'] = 80\n",
    "    if args.shot == 5:\n",
    "        config['rel_cluster_label'] = \"data/fewrel/CFRLdata_10_100_10_5/rel_cluster_label_0.npy\"\n",
    "        config['training_file'] = \"data/fewrel/CFRLdata_10_100_10_5/train_0.txt\"\n",
    "        config['valid_file'] = \"data/fewrel/CFRLdata_10_100_10_5/valid_0.txt\"\n",
    "        config['test_file'] = \"data/fewrel/CFRLdata_10_100_10_5/test_0.txt\"\n",
    "    elif args.shot == 10:\n",
    "        config['rel_cluster_label'] = \"data/fewrel/CFRLdata_10_100_10_10/rel_cluster_label_0.npy\"\n",
    "        config['training_file'] = \"data/fewrel/CFRLdata_10_100_10_10/train_0.txt\"\n",
    "        config['valid_file'] = \"data/fewrel/CFRLdata_10_100_10_10/valid_0.txt\"\n",
    "        config['test_file'] = \"data/fewrel/CFRLdata_10_100_10_10/test_0.txt\"\n",
    "    else:\n",
    "        config['rel_cluster_label'] = \"data/fewrel/CFRLdata_10_100_10_2/rel_cluster_label_0.npy\"\n",
    "        config['training_file'] = \"data/fewrel/CFRLdata_10_100_10_2/train_0.txt\"\n",
    "        config['valid_file'] = \"data/fewrel/CFRLdata_10_100_10_2/valid_0.txt\"\n",
    "        config['test_file'] = \"data/fewrel/CFRLdata_10_100_10_2/test_0.txt\"\n",
    "else:\n",
    "    config['relation_file'] = \"data/tacred/relation_name.txt\"\n",
    "    config['rel_index'] = \"data/tacred/rel_index.npy\"\n",
    "    config['rel_feature'] = \"data/tacred/rel_feature.npy\"\n",
    "    config['num_of_relation'] = 41\n",
    "    if args.shot == 5:\n",
    "        config['rel_cluster_label'] = \"data/tacred/CFRLdata_10_100_10_5/rel_cluster_label_0.npy\"\n",
    "        config['training_file'] = \"data/tacred/CFRLdata_10_100_10_5/train_0.txt\"\n",
    "        config['valid_file'] = \"data/tacred/CFRLdata_10_100_10_5/valid_0.txt\"\n",
    "        config['test_file'] = \"data/tacred/CFRLdata_10_100_10_5/test_0.txt\"\n",
    "    else:\n",
    "        config['rel_cluster_label'] = \"data/tacred/CFRLdata_10_100_10_10/rel_cluster_label_0.npy\"\n",
    "        config['training_file'] = \"data/tacred/CFRLdata_10_100_10_10/train_0.txt\"\n",
    "        config['valid_file'] = \"data/tacred/CFRLdata_10_100_10_10/valid_0.txt\"\n",
    "        config['test_file'] = \"data/tacred/CFRLdata_10_100_10_10/test_0.txt\"\n",
    "\n",
    "\n",
    "config['device'] = torch.device('cuda' if torch.cuda.is_available() and config['use_gpu'] else 'cpu')\n",
    "config['n_gpu'] = torch.cuda.device_count()\n",
    "config['batch_size_per_step'] = int(config['batch_size'] / config[\"gradient_accumulation_steps\"])\n",
    "config['neg_sampling'] = False\n",
    "\n",
    "\n",
    "\n",
    "donum = 1 \n",
    "epochs = 1\n",
    "threshold=0.1"
   ]
  },
  {
   "cell_type": "code",
   "execution_count": 3,
   "metadata": {},
   "outputs": [
    {
     "name": "stderr",
     "output_type": "stream",
     "text": [
      "/home/thanh/miniconda3/envs/sckd/lib/python3.10/site-packages/tqdm/auto.py:21: TqdmWarning: IProgress not found. Please update jupyter and ipywidgets. See https://ipywidgets.readthedocs.io/en/stable/user_install.html\n",
      "  from .autonotebook import tqdm as notebook_tqdm\n"
     ]
    },
    {
     "name": "stdout",
     "output_type": "stream",
     "text": [
      "final err:  0\n",
      "[25, [6, 14, 29, 19, 9, 61, 49, 13, 21, 40], [101, 2703, 14262, 2271, 3771, 103, 4649, 6583, 18477, 1012, 1037, 17849, 1997, 2703, 11721, 15916, 20023, 1998, 2767, 1997, 1, 2703, 14262, 2271, 3771, 2, 1010, 2002, 6272, 2000, 1996, 4418, 1997, 3324, 2124, 2004, 1005, 3, 4649, 6583, 18477, 4, 1012, 1005, 102, 0, 0, 0, 0, 0, 0, 0, 0, 0, 0, 0, 0, 0, 0, 0, 0, 0, 0, 0, 0, 0, 0, 0, 0, 0, 0, 0, 0, 0, 0, 0, 0, 0, 0, 0, 0, 0, 0, 0, 0, 0, 0, 0, 0, 0, 0, 0, 0, 0, 0, 0, 0, 0, 0, 0, 0, 0, 0, 0, 0, 0, 0, 0, 0, 0, 0, 0, 0, 0, 0, 0, 0, 0, 0, 0, 0, 0, 0, 0, 0, 0, 0, 0], [2703, 14262, 2271, 3771], [21, 22, 23, 24], [4649, 6583, 18477], [38, 39, 40], 'Q326606', 'Q503708', \"a disciple of paul gauguin and friend of paul sérusier , he belonged to the circle of artists known as ' les nabis . '\", 45, 1, [1, 1, 1, 1, 1, 1, 1, 1, 1, 1, 1, 1, 1, 1, 1, 1, 1, 1, 1, 1, 1, 1, 1, 1, 1, 1, 1, 1, 1, 1, 1, 1, 1, 1, 1, 1, 1, 1, 1, 1, 1, 1, 1, 1, 1, 0, 0, 0, 0, 0, 0, 0, 0, 0, 0, 0, 0, 0, 0, 0, 0, 0, 0, 0, 0, 0, 0, 0, 0, 0, 0, 0, 0, 0, 0, 0, 0, 0, 0, 0, 0, 0, 0, 0, 0, 0, 0, 0, 0, 0, 0, 0, 0, 0, 0, 0, 0, 0, 0, 0, 0, 0, 0, 0, 0, 0, 0, 0, 0, 0, 0, 0, 0, 0, 0, 0, 0, 0, 0, 0, 0, 0, 0, 0, 0, 0, 0, 0], 5, [8, 9], [21, 22]]\n"
     ]
    },
    {
     "name": "stderr",
     "output_type": "stream",
     "text": [
      "/home/thanh/ConPL/dataprocess.py:2098: VisibleDeprecationWarning: Creating an ndarray from ragged nested sequences (which is a list-or-tuple of lists-or-tuples-or ndarrays with different lengths or shapes) is deprecated. If you meant to do this, you must specify 'dtype=object' when creating the ndarray.\n",
      "  return np.asarray(data)\n"
     ]
    },
    {
     "name": "stdout",
     "output_type": "stream",
     "text": [
      "final err:  0\n",
      "[12, [58, 66, 74, 80, 14, 71, 68, 12, 57, 13, 48], [101, 5035, 6063, 103, 3539, 2704, 1997, 2710, 1012, 2051, 1998, 3382, 2003, 1037, 2338, 2011, 1, 5035, 6063, 2, 1010, 2280, 3, 3539, 2704, 1997, 2710, 4, 1012, 102, 0, 0, 0, 0, 0, 0, 0, 0, 0, 0, 0, 0, 0, 0, 0, 0, 0, 0, 0, 0, 0, 0, 0, 0, 0, 0, 0, 0, 0, 0, 0, 0, 0, 0, 0, 0, 0, 0, 0, 0, 0, 0, 0, 0, 0, 0, 0, 0, 0, 0, 0, 0, 0, 0, 0, 0, 0, 0, 0, 0, 0, 0, 0, 0, 0, 0, 0, 0, 0, 0, 0, 0, 0, 0, 0, 0, 0, 0, 0, 0, 0, 0, 0, 0, 0, 0, 0, 0, 0, 0, 0, 0, 0, 0, 0, 0, 0, 0], [5035, 6063], [17, 18], [3539, 2704, 1997, 2710], [23, 24, 25, 26], 'Q128553', 'Q839078', 'time and chance is a book by kim campbell , former prime minister of canada .', 30, 1, [1, 1, 1, 1, 1, 1, 1, 1, 1, 1, 1, 1, 1, 1, 1, 1, 1, 1, 1, 1, 1, 1, 1, 1, 1, 1, 1, 1, 1, 1, 0, 0, 0, 0, 0, 0, 0, 0, 0, 0, 0, 0, 0, 0, 0, 0, 0, 0, 0, 0, 0, 0, 0, 0, 0, 0, 0, 0, 0, 0, 0, 0, 0, 0, 0, 0, 0, 0, 0, 0, 0, 0, 0, 0, 0, 0, 0, 0, 0, 0, 0, 0, 0, 0, 0, 0, 0, 0, 0, 0, 0, 0, 0, 0, 0, 0, 0, 0, 0, 0, 0, 0, 0, 0, 0, 0, 0, 0, 0, 0, 0, 0, 0, 0, 0, 0, 0, 0, 0, 0, 0, 0, 0, 0, 0, 0, 0, 0], 3, [7, 8], [11, 12, 13, 14]]\n",
      "final err:  0\n",
      "[12, [58, 66, 74, 80, 14, 71, 68, 12, 57, 13, 48], [101, 5035, 6063, 103, 3539, 2704, 1997, 2710, 1012, 2051, 1998, 3382, 2003, 1037, 2338, 2011, 1, 5035, 6063, 2, 1010, 2280, 3, 3539, 2704, 1997, 2710, 4, 1012, 102, 0, 0, 0, 0, 0, 0, 0, 0, 0, 0, 0, 0, 0, 0, 0, 0, 0, 0, 0, 0, 0, 0, 0, 0, 0, 0, 0, 0, 0, 0, 0, 0, 0, 0, 0, 0, 0, 0, 0, 0, 0, 0, 0, 0, 0, 0, 0, 0, 0, 0, 0, 0, 0, 0, 0, 0, 0, 0, 0, 0, 0, 0, 0, 0, 0, 0, 0, 0, 0, 0, 0, 0, 0, 0, 0, 0, 0, 0, 0, 0, 0, 0, 0, 0, 0, 0, 0, 0, 0, 0, 0, 0, 0, 0, 0, 0, 0, 0], [5035, 6063], [17, 18], [3539, 2704, 1997, 2710], [23, 24, 25, 26], 'Q128553', 'Q839078', 'time and chance is a book by kim campbell , former prime minister of canada .', 30, 1, [1, 1, 1, 1, 1, 1, 1, 1, 1, 1, 1, 1, 1, 1, 1, 1, 1, 1, 1, 1, 1, 1, 1, 1, 1, 1, 1, 1, 1, 1, 0, 0, 0, 0, 0, 0, 0, 0, 0, 0, 0, 0, 0, 0, 0, 0, 0, 0, 0, 0, 0, 0, 0, 0, 0, 0, 0, 0, 0, 0, 0, 0, 0, 0, 0, 0, 0, 0, 0, 0, 0, 0, 0, 0, 0, 0, 0, 0, 0, 0, 0, 0, 0, 0, 0, 0, 0, 0, 0, 0, 0, 0, 0, 0, 0, 0, 0, 0, 0, 0, 0, 0, 0, 0, 0, 0, 0, 0, 0, 0, 0, 0, 0, 0, 0, 0, 0, 0, 0, 0, 0, 0, 0, 0, 0, 0, 0, 0], 3, [7, 8], [11, 12, 13, 14]]\n"
     ]
    }
   ],
   "source": [
    "from transformers import BertTokenizer\n",
    "config['first_task_k-way'] = 10\n",
    "config['k-shot'] = 5\n",
    "if config[\"prompt\"] == \"hard-complex\":\n",
    "    template = 'the relation between e1 and e2 is mask . '\n",
    "elif config[\"prompt\"] == \"hard-simple\":\n",
    "    template = 'e1 mask e2 . '\n",
    "else:\n",
    "    template = None\n",
    "tokenizer = BertTokenizer.from_pretrained('bert-base-uncased')\n",
    "sampler = data_sampler_bert_prompt_deal_first_task_sckd(config, tokenizer, template)\n",
    "#need numpy 1.23.0"
   ]
  },
  {
   "cell_type": "code",
   "execution_count": 4,
   "metadata": {},
   "outputs": [
    {
     "name": "stdout",
     "output_type": "stream",
     "text": [
      "0\n",
      "1000\n",
      "10\n",
      "=====================\n",
      "1\n",
      "50\n",
      "10\n",
      "=====================\n",
      "2\n",
      "50\n",
      "10\n",
      "=====================\n",
      "3\n",
      "50\n",
      "10\n",
      "=====================\n",
      "4\n",
      "50\n",
      "10\n",
      "=====================\n",
      "5\n",
      "50\n",
      "10\n",
      "=====================\n",
      "6\n",
      "50\n",
      "10\n",
      "=====================\n",
      "7\n",
      "50\n",
      "10\n",
      "=====================\n"
     ]
    }
   ],
   "source": [
    "data = []\n",
    "for steps, (training_data, valid_data, test_data,test_all_data, seen_relations,current_relations) in enumerate(sampler):\n",
    "    print(steps)\n",
    "    print(len(training_data))\n",
    "    print(len(current_relations))\n",
    "    data.append((training_data, valid_data, test_data, test_all_data, seen_relations, current_relations))\n",
    "    print(\"=====================\")"
   ]
  },
  {
   "cell_type": "code",
   "execution_count": 5,
   "metadata": {},
   "outputs": [
    {
     "data": {
      "text/plain": [
       "array([25, list([76, 19, 42, 66, 24, 28, 78, 22, 36, 79]),\n",
       "       list([101, 10488, 16033, 1997, 9610, 2891, 103, 2358, 19419, 9667, 1012, 2002, 2003, 2025, 2000, 2022, 5457, 2007, 1, 10488, 16033, 1997, 9610, 2891, 2, 1010, 1037, 3, 2358, 19419, 9667, 4, 1997, 1996, 3054, 3822, 2301, 4647, 1012, 102, 0, 0, 0, 0, 0, 0, 0, 0, 0, 0, 0, 0, 0, 0, 0, 0, 0, 0, 0, 0, 0, 0, 0, 0, 0, 0, 0, 0, 0, 0, 0, 0, 0, 0, 0, 0, 0, 0, 0, 0, 0, 0, 0, 0, 0, 0, 0, 0, 0, 0, 0, 0, 0, 0, 0, 0, 0, 0, 0, 0, 0, 0, 0, 0, 0, 0, 0, 0, 0, 0, 0, 0, 0, 0, 0, 0, 0, 0, 0, 0, 0, 0, 0, 0, 0, 0, 0, 0]),\n",
       "       list([10488, 16033, 1997, 9610, 2891]), list([19, 20, 21, 22, 23]),\n",
       "       list([2358, 19419, 9667]), list([28, 29, 30]), 'Q646951', 'Q48235',\n",
       "       'he is not to be confused with aristo of chios , a stoic philosopher of the mid 3rd century bc .',\n",
       "       40, 1,\n",
       "       list([1, 1, 1, 1, 1, 1, 1, 1, 1, 1, 1, 1, 1, 1, 1, 1, 1, 1, 1, 1, 1, 1, 1, 1, 1, 1, 1, 1, 1, 1, 1, 1, 1, 1, 1, 1, 1, 1, 1, 1, 0, 0, 0, 0, 0, 0, 0, 0, 0, 0, 0, 0, 0, 0, 0, 0, 0, 0, 0, 0, 0, 0, 0, 0, 0, 0, 0, 0, 0, 0, 0, 0, 0, 0, 0, 0, 0, 0, 0, 0, 0, 0, 0, 0, 0, 0, 0, 0, 0, 0, 0, 0, 0, 0, 0, 0, 0, 0, 0, 0, 0, 0, 0, 0, 0, 0, 0, 0, 0, 0, 0, 0, 0, 0, 0, 0, 0, 0, 0, 0, 0, 0, 0, 0, 0, 0, 0, 0]),\n",
       "       6, list([7, 8, 9]), list([12, 13])], dtype=object)"
      ]
     },
     "execution_count": 5,
     "metadata": {},
     "output_type": "execute_result"
    }
   ],
   "source": [
    "data[0][0][1]"
   ]
  },
  {
   "cell_type": "code",
   "execution_count": 7,
   "metadata": {},
   "outputs": [
    {
     "data": {
      "text/plain": [
       "list"
      ]
     },
     "execution_count": 7,
     "metadata": {},
     "output_type": "execute_result"
    }
   ],
   "source": [
    "type(test_data)"
   ]
  },
  {
   "cell_type": "code",
   "execution_count": null,
   "metadata": {},
   "outputs": [],
   "source": []
  }
 ],
 "metadata": {
  "kernelspec": {
   "display_name": "sckd",
   "language": "python",
   "name": "python3"
  },
  "language_info": {
   "codemirror_mode": {
    "name": "ipython",
    "version": 3
   },
   "file_extension": ".py",
   "mimetype": "text/x-python",
   "name": "python",
   "nbconvert_exporter": "python",
   "pygments_lexer": "ipython3",
   "version": "3.10.13"
  }
 },
 "nbformat": 4,
 "nbformat_minor": 2
}
